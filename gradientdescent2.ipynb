{
  "nbformat": 4,
  "nbformat_minor": 0,
  "metadata": {
    "colab": {
      "name": "Untitled0.ipynb",
      "provenance": [],
      "collapsed_sections": [],
      "authorship_tag": "ABX9TyPpr7ltb3a8lwwaOi3aHUGA",
      "include_colab_link": true
    },
    "kernelspec": {
      "name": "python3",
      "display_name": "Python 3"
    },
    "language_info": {
      "name": "python"
    }
  },
  "cells": [
    {
      "cell_type": "markdown",
      "metadata": {
        "id": "view-in-github",
        "colab_type": "text"
      },
      "source": [
        "<a href=\"https://colab.research.google.com/github/19k41a0451/AI/blob/main/gradientdescent2.ipynb\" target=\"_parent\"><img src=\"https://colab.research.google.com/assets/colab-badge.svg\" alt=\"Open In Colab\"/></a>"
      ]
    },
    {
      "cell_type": "code",
      "metadata": {
        "colab": {
          "base_uri": "https://localhost:8080/"
        },
        "id": "A3qvAshymMvt",
        "outputId": "fc2c8684-f74c-4a8c-8af7-315c6feab272"
      },
      "source": [
        "import numpy as np\n",
        "import math\n",
        "x=np.random.uniform(-10,10)\n",
        "y=np.random.uniform(-10,10)\n",
        "eta=0.1\n",
        "iter_max=30\n",
        "iter=1\n",
        "while iter<=iter_max:\n",
        "  g_x= 6*x\n",
        "  g_y= -5*(math.exp(-y))\n",
        "  d_x=-eta*g_x\n",
        "  d_y=-eta*g_y\n",
        "  x=x+d_x\n",
        "  y=y+d_y\n",
        "  iter=iter+1\n",
        "obj=3*x*x+5*math.exp(-y)+10\n",
        "print(\"Minimum =\",obj,\"at X=\",x,\"Y=\",y)"
      ],
      "execution_count": 16,
      "outputs": [
        {
          "output_type": "stream",
          "name": "stdout",
          "text": [
            "Minimum = 10.0 at X= 6.390539609889354e-12 Y= 8457.258222124921\n"
          ]
        }
      ]
    }
  ]
}